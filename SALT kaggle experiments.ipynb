{
  "cells": [
    {
      "cell_type": "code",
      "execution_count": null,
      "id": "2a91b1c6-d34c-45a1-9855-8b4b7d29449c",
      "metadata": {
        "execution": {
          "iopub.execute_input": "2025-06-10T09:49:42.419673Z",
          "iopub.status.busy": "2025-06-10T09:49:42.419401Z",
          "iopub.status.idle": "2025-06-10T09:49:43.588803Z",
          "shell.execute_reply": "2025-06-10T09:49:43.587844Z",
          "shell.execute_reply.started": "2025-06-10T09:49:42.419655Z"
        },
        "id": "2a91b1c6-d34c-45a1-9855-8b4b7d29449c",
        "outputId": "4f65449f-d296-4c8c-d1ac-9a71cccccf9f",
        "trusted": true
      },
      "outputs": [
        {
          "name": "stdout",
          "output_type": "stream",
          "text": [
            "Generating public/private rsa key pair.\n",
            "Created directory '/root/.ssh'.\n",
            "Your identification has been saved in /root/.ssh/id_rsa\n",
            "Your public key has been saved in /root/.ssh/id_rsa.pub\n",
            "The key fingerprint is:\n",
            "SHA256:VoDvsDsx3e56QnExXMQhOSGd5gC4y0cjuL3QC77jkxg root@7825da429494\n",
            "The key's randomart image is:\n",
            "+---[RSA 4096]----+\n",
            "|     ..ooooB+.   |\n",
            "|    . . .oX..    |\n",
            "|   . . . +.+     |\n",
            "|  . o + o.o      |\n",
            "|   = + *S+       |\n",
            "|E + = =.+ .      |\n",
            "| + + + = .       |\n",
            "|. = o o . o      |\n",
            "| .o+   ..=.      |\n",
            "+----[SHA256]-----+\n",
            "# github.com:22 SSH-2.0-55b9c56f\n",
            "ssh-rsa AAAAB3NzaC1yc2EAAAADAQABAAACAQC7gi0/lk5MAuOvVcBftXPZ+FQc9GkClmPqu9U5pSmqZble/g5lAPhAGA5KxHFfrm3pY5FVVP8V1Eku7ufhT/T/3RHkOL3oGNfs0ygHt/VIhd6tjsy/DQ3blwNLCbVR/waWjH0nPI4ISNNETZKkvCMBmjYbmUCjOE78B7ugOVG/yz3eiUU/X5EcebIa1Gm0dNdKYA49f/M2oem4JSx3s0SSQqrdyyisVChDPG9u5vJSTR6FKH8dUxKAKHi4NTGDTJmDmMVLFjSbaxxigb/ySiCyZ7QyBTI//+JasdV/Mp27peao0iaubw545UPlUUAqpQ1BJzQnFXAULiUqHbAG861RDrzP6p58E4D2jczloli/gdUZbaiammbAqaEm9pwIBus553hbe7N0DMsGsIU1pKWPKNq3co4DJ+fJlIVPQ2piNuAouw2Df54foQv+9IkuT9okCbZTcZ5PmZMxsW50YQvYxbwKmN63FibfBrdBKcd1Ix4UhzI3lIo7Zpv2TYS6LWm/yeMcvnfYG7rYv5Na8VXSzF3DXKOiwD0WoG99ZYXepD6CJ2dfjAf5vBdEP1OjOQl9LyFR9F/slMaxUG9xyVsyOkSw09vp94Z3N1sTkRDixseIV51H85tuPjzSrgukmL1iVcBebfUYhC1j/h0mM9+HsLJaA4EaLrONIDH9l5EDjw== root@7825da429494\n"
          ]
        }
      ],
      "source": [
        "# DO NOT give a passphrase when prompted! (-N should prevent that)\n",
        "!ssh-keygen -t rsa -b 4096 -f ~/.ssh/id_rsa -N ''\n",
        "!ssh-keyscan -t rsa github.com >> ~/.ssh/known_hosts\n",
        "!cat ~/.ssh/id_rsa.pub"
      ]
    },
    {
      "cell_type": "code",
      "execution_count": null,
      "id": "5bf00322-f075-4c13-9144-63e4ae83b9da",
      "metadata": {
        "execution": {
          "iopub.execute_input": "2025-06-10T09:51:27.606424Z",
          "iopub.status.busy": "2025-06-10T09:51:27.605779Z",
          "iopub.status.idle": "2025-06-10T09:51:29.219838Z",
          "shell.execute_reply": "2025-06-10T09:51:29.218958Z",
          "shell.execute_reply.started": "2025-06-10T09:51:27.606387Z"
        },
        "id": "5bf00322-f075-4c13-9144-63e4ae83b9da",
        "outputId": "f9be53dc-297f-4162-f588-1fcc1a27a046",
        "trusted": true
      },
      "outputs": [
        {
          "name": "stdout",
          "output_type": "stream",
          "text": [
            "Hi Bilpapster! You've successfully authenticated, but GitHub does not provide shell access.\n",
            "Cloning into 'StreamingAnomalyDetection'...\n",
            "remote: Enumerating objects: 101, done.\u001b[K\n",
            "remote: Counting objects: 100% (101/101), done.\u001b[K\n",
            "remote: Compressing objects: 100% (65/65), done.\u001b[K\n",
            "remote: Total 101 (delta 44), reused 84 (delta 27), pack-reused 0 (from 0)\u001b[K\n",
            "Receiving objects: 100% (101/101), 3.57 MiB | 28.10 MiB/s, done.\n",
            "Resolving deltas: 100% (44/44), done.\n"
          ]
        }
      ],
      "source": [
        "!ssh -T git@github.com\n",
        "# Hi [username]! You've successfully authenticated, but GitHub does not provide shell access.\n",
        "\n",
        "!git config --global user.email 'papster@csd.auth.gr'\n",
        "!git config --global user.name 'Vassilis Papastergios'\n",
        "\n",
        "!git clone git@github.com:balaktsis/StreamingAnomalyDetection.git"
      ]
    },
    {
      "cell_type": "code",
      "execution_count": null,
      "id": "48517a6c-c2e1-4aa8-b2a8-e481f305adb2",
      "metadata": {
        "execution": {
          "iopub.execute_input": "2025-06-10T09:51:29.841390Z",
          "iopub.status.busy": "2025-06-10T09:51:29.841099Z"
        },
        "id": "48517a6c-c2e1-4aa8-b2a8-e481f305adb2",
        "outputId": "85963c7c-bf06-4c60-c3c3-30defb2bc75a",
        "trusted": true
      },
      "outputs": [
        {
          "name": "stdout",
          "output_type": "stream",
          "text": [
            "/kaggle/working/StreamingAnomalyDetection\n",
            "  Installing build dependencies ... \u001b[?25l\u001b[?25hdone\n",
            "  Getting requirements to build wheel ... \u001b[?25l\u001b[?25hdone\n",
            "  Preparing metadata (pyproject.toml) ... \u001b[?25l\u001b[?25hdone\n",
            "\u001b[2K   \u001b[90m━━━━━━━━━━━━━━━━━━━━━━━━━━━━━━━━━━━━━━━━\u001b[0m \u001b[32m3.0/3.0 MB\u001b[0m \u001b[31m34.7 MB/s\u001b[0m eta \u001b[36m0:00:00\u001b[0m00:01\u001b[0m00:01\u001b[0m\n",
            "\u001b[2K   \u001b[90m━━━━━━━━━━━━━━━━━━━━━━━━━━━━━━━━━━━━━━━━\u001b[0m \u001b[32m8.6/8.6 MB\u001b[0m \u001b[31m100.7 MB/s\u001b[0m eta \u001b[36m0:00:00\u001b[0m00:01\u001b[0m00:01\u001b[0m\n",
            "\u001b[2K   \u001b[90m━━━━━━━━━━━━━━━━━━━━━━━━━━━━━━━━━━━━━━━━\u001b[0m \u001b[32m985.3/985.3 kB\u001b[0m \u001b[31m43.4 MB/s\u001b[0m eta \u001b[36m0:00:00\u001b[0m\n",
            "\u001b[2K   \u001b[90m━━━━━━━━━━━━━━━━━━━━━━━━━━━━━━━━━━━━━━━━\u001b[0m \u001b[32m374.4/374.4 kB\u001b[0m \u001b[31m25.9 MB/s\u001b[0m eta \u001b[36m0:00:00\u001b[0m\n",
            "\u001b[2K   \u001b[90m━━━━━━━━━━━━━━━━━━━━━━━━━━━━━━━━━━━━━━━━\u001b[0m \u001b[32m85.6/85.6 kB\u001b[0m \u001b[31m5.3 MB/s\u001b[0m eta \u001b[36m0:00:00\u001b[0m\n",
            "\u001b[2K   \u001b[90m━━━━━━━━━━━━━━━━━━━━━━━━━━━━━━━━━━━━━━━━\u001b[0m \u001b[32m128.9/128.9 kB\u001b[0m \u001b[31m11.3 MB/s\u001b[0m eta \u001b[36m0:00:00\u001b[0m\n",
            "\u001b[2K   \u001b[90m━━━━━━━━━━━━━━━━━━━━━━━━━━━━━━━━━━━━━━━━\u001b[0m \u001b[32m13.5/13.5 MB\u001b[0m \u001b[31m91.9 MB/s\u001b[0m eta \u001b[36m0:00:00\u001b[0m:00:01\u001b[0m0:01\u001b[0m\n",
            "\u001b[2K   \u001b[90m━━━━━━━━━━━━━━━━━━━━━━━━━━━━━━━━━━━━━━━━\u001b[0m \u001b[32m244.2/244.2 kB\u001b[0m \u001b[31m19.6 MB/s\u001b[0m eta \u001b[36m0:00:00\u001b[0m\n",
            "\u001b[2K   \u001b[90m━━━━━━━━━━━━━━━━━━━━━━━━━━━━━━━━━━━━━━━━\u001b[0m \u001b[32m363.4/363.4 MB\u001b[0m \u001b[31m4.7 MB/s\u001b[0m eta \u001b[36m0:00:00\u001b[0m0:00:01\u001b[0m00:01\u001b[0m\n",
            "\u001b[2K   \u001b[90m━━━━━━━━━━━━━━━━━━━━━━━━━━━━━━━━━━━━━━━━\u001b[0m \u001b[32m664.8/664.8 MB\u001b[0m \u001b[31m2.1 MB/s\u001b[0m eta \u001b[36m0:00:00\u001b[0m0:00:01\u001b[0m00:01\u001b[0m\n",
            "\u001b[2K   \u001b[90m━━━━━━━━━━━━━━━━━━━━━━━━━━━━━━━━━━━━━━━━\u001b[0m \u001b[32m211.5/211.5 MB\u001b[0m \u001b[31m2.1 MB/s\u001b[0m eta \u001b[36m0:00:00\u001b[0m0:00:01\u001b[0m00:01\u001b[0m\n",
            "\u001b[2K   \u001b[90m━━━━━━━━━━━━━━━━━━━━━━━━━━━━━━━━━━━━━━━━\u001b[0m \u001b[32m56.3/56.3 MB\u001b[0m \u001b[31m21.8 MB/s\u001b[0m eta \u001b[36m0:00:00\u001b[0m:00:01\u001b[0m00:01\u001b[0m\n",
            "\u001b[2K   \u001b[90m━━━━━━━━━━━━━━━━━━━━━━━━━━━━━━━━━━━━━━━━\u001b[0m \u001b[32m127.9/127.9 MB\u001b[0m \u001b[31m13.5 MB/s\u001b[0m eta \u001b[36m0:00:00\u001b[0m:00:01\u001b[0m00:01\u001b[0m\n",
            "\u001b[2K   \u001b[91m━━━━━━━━━━━━━━━━━━━━━━━━━━━━━━━━━━━━━━━\u001b[0m\u001b[91m╸\u001b[0m \u001b[32m207.5/207.5 MB\u001b[0m \u001b[31m218.2 MB/s\u001b[0m eta \u001b[36m0:00:01\u001b[0m00:01\u001b[0m"
          ]
        }
      ],
      "source": [
        "%cd StreamingAnomalyDetection\n",
        "! pip install --quiet -r requirements.txt\n",
        "! wget https://www.thedatum.org/datasets/TSB-UAD-Public.zip && unzip -qq TSB-UAD-Public.zip && rm -rf __MACOSX && rm TSB-UAD-Public.zip && mv TSB-UAD-Public data"
      ]
    },
    {
      "cell_type": "code",
      "execution_count": null,
      "id": "14e5b3d9-799c-4ef1-920d-fecd02a84f22",
      "metadata": {
        "id": "14e5b3d9-799c-4ef1-920d-fecd02a84f22",
        "trusted": true
      },
      "outputs": [],
      "source": [
        "with open(\".env\", \"w\") as f:\n",
        "  f.write('''\n",
        "POSTGRES_USER=postgres\n",
        "POSTGRES_PASSWORD=postgres\n",
        "POSTGRES_DB=postgres\n",
        "POSTGRES_MAPPED_PORT=3713\n",
        "ADMINER_MAPPED_PORT=8888\n",
        "POSTGRES_HOST=cobra.csd.auth.gr\n",
        "    ''')"
      ]
    },
    {
      "cell_type": "code",
      "execution_count": null,
      "id": "656b734c-3497-4480-85b6-35fba7a3ebdf",
      "metadata": {
        "id": "656b734c-3497-4480-85b6-35fba7a3ebdf",
        "trusted": true
      },
      "outputs": [],
      "source": [
        "!python gpu_experiments.py\n",
        "!python gpu_experiments.py\n",
        "!python gpu_experiments.py\n",
        "!python gpu_experiments.py\n",
        "!python gpu_experiments.py\n",
        "!python gpu_experiments.py\n",
        "!python gpu_experiments.py\n",
        "!python gpu_experiments.py\n",
        "!python gpu_experiments.py\n",
        "!python gpu_experiments.py\n",
        "!python gpu_experiments.py\n",
        "!python gpu_experiments.py\n",
        "!python gpu_experiments.py\n",
        "!python gpu_experiments.py\n",
        "!python gpu_experiments.py\n",
        "!python gpu_experiments.py\n",
        "!python gpu_experiments.py\n",
        "!python gpu_experiments.py\n",
        "!python gpu_experiments.py\n",
        "!python gpu_experiments.py\n",
        "!python gpu_experiments.py\n",
        "!python gpu_experiments.py\n",
        "!python gpu_experiments.py\n",
        "!python gpu_experiments.py\n",
        "!python gpu_experiments.py\n",
        "!python gpu_experiments.py\n",
        "!python gpu_experiments.py\n",
        "!python gpu_experiments.py\n",
        "!python gpu_experiments.py\n",
        "!python gpu_experiments.py\n",
        "!python gpu_experiments.py\n",
        "!python gpu_experiments.py\n",
        "!python gpu_experiments.py\n",
        "!python gpu_experiments.py\n",
        "!python gpu_experiments.py\n",
        "!python gpu_experiments.py\n",
        "!python gpu_experiments.py\n",
        "!python gpu_experiments.py\n",
        "!python gpu_experiments.py\n",
        "!python gpu_experiments.py\n",
        "!python gpu_experiments.py\n",
        "!python gpu_experiments.py\n",
        "!python gpu_experiments.py\n",
        "!python gpu_experiments.py\n",
        "!python gpu_experiments.py\n",
        "!python gpu_experiments.py\n",
        "!python gpu_experiments.py\n",
        "!python gpu_experiments.py\n",
        "!python gpu_experiments.py\n",
        "!python gpu_experiments.py\n",
        "!python gpu_experiments.py\n",
        "!python gpu_experiments.py\n",
        "!python gpu_experiments.py\n",
        "!python gpu_experiments.py\n",
        "!python gpu_experiments.py\n",
        "!python gpu_experiments.py\n",
        "!python gpu_experiments.py\n",
        "!python gpu_experiments.py\n",
        "!python gpu_experiments.py\n",
        "!python gpu_experiments.py\n",
        "!python gpu_experiments.py\n",
        "!python gpu_experiments.py\n",
        "!python gpu_experiments.py\n",
        "!python gpu_experiments.py\n",
        "!python gpu_experiments.py\n",
        "!python gpu_experiments.py\n",
        "!python gpu_experiments.py\n",
        "!python gpu_experiments.py\n",
        "!python gpu_experiments.py\n",
        "!python gpu_experiments.py\n",
        "!python gpu_experiments.py\n",
        "!python gpu_experiments.py\n",
        "!python gpu_experiments.py\n",
        "!python gpu_experiments.py\n",
        "!python gpu_experiments.py\n",
        "!python gpu_experiments.py\n",
        "!python gpu_experiments.py\n",
        "!python gpu_experiments.py\n",
        "!python gpu_experiments.py\n",
        "!python gpu_experiments.py\n",
        "!python gpu_experiments.py\n",
        "!python gpu_experiments.py\n",
        "!python gpu_experiments.py\n",
        "!python gpu_experiments.py\n",
        "!python gpu_experiments.py\n",
        "!python gpu_experiments.py\n",
        "!python gpu_experiments.py\n",
        "!python gpu_experiments.py"
      ]
    }
  ],
  "metadata": {
    "colab": {
      "provenance": []
    },
    "kaggle": {
      "accelerator": "nvidiaTeslaT4",
      "dataSources": [],
      "dockerImageVersionId": 31041,
      "isGpuEnabled": true,
      "isInternetEnabled": true,
      "language": "python",
      "sourceType": "notebook"
    },
    "kernelspec": {
      "display_name": "Python 3",
      "language": "python",
      "name": "python3"
    },
    "language_info": {
      "codemirror_mode": {
        "name": "ipython",
        "version": 3
      },
      "file_extension": ".py",
      "mimetype": "text/x-python",
      "name": "python",
      "nbconvert_exporter": "python",
      "pygments_lexer": "ipython3",
      "version": "3.11.11"
    }
  },
  "nbformat": 4,
  "nbformat_minor": 5
}
